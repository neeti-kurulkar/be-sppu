{
 "cells": [
  {
   "cell_type": "markdown",
   "id": "d3b89e8e",
   "metadata": {},
   "source": [
    "# Diabetes Prediction using K-Nearest Neighbors (KNN)\n",
    "\n",
    "### Objective:\n",
    "Predict whether a patient has diabetes using the `diabetes.csv` dataset and K-Nearest Neighbors (KNN) algorithm.\n",
    "\n",
    "### Steps:\n",
    "1. Load and inspect the dataset\n",
    "2. Preprocess the data if necessary\n",
    "3. Split the data into training and test sets\n",
    "4. Train a KNN classifier\n",
    "5. Evaluate the model: confusion matrix, accuracy, error rate, precision, recall\n",
    "6. Experiment with different values of `k` to improve results"
   ]
  },
  {
   "cell_type": "code",
   "execution_count": 5,
   "id": "493d34e0",
   "metadata": {},
   "outputs": [],
   "source": [
    "import pandas as pd\n",
    "import numpy as np\n",
    "import matplotlib.pyplot as plt\n",
    "import seaborn as sns\n",
    "\n",
    "from sklearn.model_selection import train_test_split\n",
    "from sklearn.preprocessing import StandardScaler\n",
    "from sklearn.neighbors import KNeighborsClassifier\n",
    "from sklearn.metrics import accuracy_score, confusion_matrix, precision_score, recall_score, f1_score"
   ]
  },
  {
   "cell_type": "markdown",
   "id": "954f191b",
   "metadata": {},
   "source": [
    "### Step 1: Load the dataset"
   ]
  },
  {
   "cell_type": "code",
   "execution_count": 6,
   "id": "25204d0d",
   "metadata": {},
   "outputs": [
    {
     "data": {
      "text/html": [
       "<div>\n",
       "<style scoped>\n",
       "    .dataframe tbody tr th:only-of-type {\n",
       "        vertical-align: middle;\n",
       "    }\n",
       "\n",
       "    .dataframe tbody tr th {\n",
       "        vertical-align: top;\n",
       "    }\n",
       "\n",
       "    .dataframe thead th {\n",
       "        text-align: right;\n",
       "    }\n",
       "</style>\n",
       "<table border=\"1\" class=\"dataframe\">\n",
       "  <thead>\n",
       "    <tr style=\"text-align: right;\">\n",
       "      <th></th>\n",
       "      <th>Pregnancies</th>\n",
       "      <th>Glucose</th>\n",
       "      <th>BloodPressure</th>\n",
       "      <th>SkinThickness</th>\n",
       "      <th>Insulin</th>\n",
       "      <th>BMI</th>\n",
       "      <th>Pedigree</th>\n",
       "      <th>Age</th>\n",
       "      <th>Outcome</th>\n",
       "    </tr>\n",
       "  </thead>\n",
       "  <tbody>\n",
       "    <tr>\n",
       "      <th>0</th>\n",
       "      <td>6</td>\n",
       "      <td>148</td>\n",
       "      <td>72</td>\n",
       "      <td>35</td>\n",
       "      <td>0</td>\n",
       "      <td>33.6</td>\n",
       "      <td>0.627</td>\n",
       "      <td>50</td>\n",
       "      <td>1</td>\n",
       "    </tr>\n",
       "    <tr>\n",
       "      <th>1</th>\n",
       "      <td>1</td>\n",
       "      <td>85</td>\n",
       "      <td>66</td>\n",
       "      <td>29</td>\n",
       "      <td>0</td>\n",
       "      <td>26.6</td>\n",
       "      <td>0.351</td>\n",
       "      <td>31</td>\n",
       "      <td>0</td>\n",
       "    </tr>\n",
       "    <tr>\n",
       "      <th>2</th>\n",
       "      <td>8</td>\n",
       "      <td>183</td>\n",
       "      <td>64</td>\n",
       "      <td>0</td>\n",
       "      <td>0</td>\n",
       "      <td>23.3</td>\n",
       "      <td>0.672</td>\n",
       "      <td>32</td>\n",
       "      <td>1</td>\n",
       "    </tr>\n",
       "    <tr>\n",
       "      <th>3</th>\n",
       "      <td>1</td>\n",
       "      <td>89</td>\n",
       "      <td>66</td>\n",
       "      <td>23</td>\n",
       "      <td>94</td>\n",
       "      <td>28.1</td>\n",
       "      <td>0.167</td>\n",
       "      <td>21</td>\n",
       "      <td>0</td>\n",
       "    </tr>\n",
       "    <tr>\n",
       "      <th>4</th>\n",
       "      <td>0</td>\n",
       "      <td>137</td>\n",
       "      <td>40</td>\n",
       "      <td>35</td>\n",
       "      <td>168</td>\n",
       "      <td>43.1</td>\n",
       "      <td>2.288</td>\n",
       "      <td>33</td>\n",
       "      <td>1</td>\n",
       "    </tr>\n",
       "  </tbody>\n",
       "</table>\n",
       "</div>"
      ],
      "text/plain": [
       "   Pregnancies  Glucose  BloodPressure  SkinThickness  Insulin   BMI  \\\n",
       "0            6      148             72             35        0  33.6   \n",
       "1            1       85             66             29        0  26.6   \n",
       "2            8      183             64              0        0  23.3   \n",
       "3            1       89             66             23       94  28.1   \n",
       "4            0      137             40             35      168  43.1   \n",
       "\n",
       "   Pedigree  Age  Outcome  \n",
       "0     0.627   50        1  \n",
       "1     0.351   31        0  \n",
       "2     0.672   32        1  \n",
       "3     0.167   21        0  \n",
       "4     2.288   33        1  "
      ]
     },
     "execution_count": 6,
     "metadata": {},
     "output_type": "execute_result"
    }
   ],
   "source": [
    "df = pd.read_csv(\"diabetes.csv\")\n",
    "df.head()"
   ]
  },
  {
   "cell_type": "code",
   "execution_count": 8,
   "id": "e2a441ed",
   "metadata": {},
   "outputs": [
    {
     "data": {
      "text/plain": [
       "(768, 9)"
      ]
     },
     "execution_count": 8,
     "metadata": {},
     "output_type": "execute_result"
    }
   ],
   "source": [
    "df.shape"
   ]
  },
  {
   "cell_type": "code",
   "execution_count": 7,
   "id": "f58f87d5",
   "metadata": {},
   "outputs": [
    {
     "name": "stdout",
     "output_type": "stream",
     "text": [
      "<class 'pandas.core.frame.DataFrame'>\n",
      "RangeIndex: 768 entries, 0 to 767\n",
      "Data columns (total 9 columns):\n",
      " #   Column         Non-Null Count  Dtype  \n",
      "---  ------         --------------  -----  \n",
      " 0   Pregnancies    768 non-null    int64  \n",
      " 1   Glucose        768 non-null    int64  \n",
      " 2   BloodPressure  768 non-null    int64  \n",
      " 3   SkinThickness  768 non-null    int64  \n",
      " 4   Insulin        768 non-null    int64  \n",
      " 5   BMI            768 non-null    float64\n",
      " 6   Pedigree       768 non-null    float64\n",
      " 7   Age            768 non-null    int64  \n",
      " 8   Outcome        768 non-null    int64  \n",
      "dtypes: float64(2), int64(7)\n",
      "memory usage: 54.1 KB\n"
     ]
    }
   ],
   "source": [
    "df.info()"
   ]
  },
  {
   "cell_type": "markdown",
   "id": "0f505d8a",
   "metadata": {},
   "source": [
    "### Step 2: Preprocessing\n",
    "- Check for missing values\n",
    "- Replace invalid zeros in certain columns with median values\n",
    "- Split features and target"
   ]
  },
  {
   "cell_type": "code",
   "execution_count": 9,
   "id": "a8da2c11",
   "metadata": {},
   "outputs": [
    {
     "data": {
      "text/plain": [
       "Pregnancies      0\n",
       "Glucose          0\n",
       "BloodPressure    0\n",
       "SkinThickness    0\n",
       "Insulin          0\n",
       "BMI              0\n",
       "Pedigree         0\n",
       "Age              0\n",
       "Outcome          0\n",
       "dtype: int64"
      ]
     },
     "execution_count": 9,
     "metadata": {},
     "output_type": "execute_result"
    }
   ],
   "source": [
    "# Check for missing values\n",
    "df.isnull().sum()"
   ]
  },
  {
   "cell_type": "code",
   "execution_count": 11,
   "id": "db2032b8",
   "metadata": {},
   "outputs": [],
   "source": [
    "# Columns where zero is invalid and should be replaced\n",
    "zero_invalid_cols = ['Glucose', 'BloodPressure', 'SkinThickness', 'Insulin', 'BMI']\n",
    "# Replace zeros with median values in these columns\n",
    "for col in zero_invalid_cols:\n",
    "    median_val = df[col].median()\n",
    "    df[col] = df[col].replace(0, median_val)\n"
   ]
  },
  {
   "cell_type": "code",
   "execution_count": 12,
   "id": "809d375d",
   "metadata": {},
   "outputs": [],
   "source": [
    "# Split features and target\n",
    "X = df.drop('Outcome', axis=1)\n",
    "y = df['Outcome']\n",
    "\n",
    "# Train-test split (80-20)\n",
    "from sklearn.model_selection import train_test_split\n",
    "X_train, X_test, y_train, y_test = train_test_split(\n",
    "    X, y, test_size=0.2, random_state=42, stratify=y\n",
    ")"
   ]
  },
  {
   "cell_type": "code",
   "execution_count": 13,
   "id": "f1f7022b",
   "metadata": {},
   "outputs": [],
   "source": [
    "# Feature scaling\n",
    "from sklearn.preprocessing import StandardScaler\n",
    "scaler = StandardScaler()\n",
    "X_train_scaled = scaler.fit_transform(X_train)\n",
    "X_test_scaled = scaler.transform(X_test)"
   ]
  },
  {
   "cell_type": "markdown",
   "id": "8206e9fb",
   "metadata": {},
   "source": [
    "### Step 3: Train K-Nearest Neighbors Classifier\n",
    "- Experiment with different values of `k` and distance metrics to find the best accuracy."
   ]
  },
  {
   "cell_type": "code",
   "execution_count": 14,
   "id": "c9fa081d",
   "metadata": {},
   "outputs": [
    {
     "name": "stdout",
     "output_type": "stream",
     "text": [
      "\n",
      "KNN with k=3, metric=euclidean\n",
      "Accuracy: 0.701\n",
      "Error Rate: 0.299\n",
      "Precision: 0.587\n",
      "Recall: 0.500\n",
      "F1-score: 0.540\n",
      "Confusion Matrix:\n",
      " [[81 19]\n",
      " [27 27]]\n",
      "\n",
      "KNN with k=5, metric=euclidean\n",
      "Accuracy: 0.708\n",
      "Error Rate: 0.292\n",
      "Precision: 0.596\n",
      "Recall: 0.519\n",
      "F1-score: 0.554\n",
      "Confusion Matrix:\n",
      " [[81 19]\n",
      " [26 28]]\n",
      "\n",
      "KNN with k=7, metric=euclidean\n",
      "Accuracy: 0.695\n",
      "Error Rate: 0.305\n",
      "Precision: 0.574\n",
      "Recall: 0.500\n",
      "F1-score: 0.535\n",
      "Confusion Matrix:\n",
      " [[80 20]\n",
      " [27 27]]\n",
      "\n",
      "KNN with k=3, metric=manhattan\n",
      "Accuracy: 0.734\n",
      "Error Rate: 0.266\n",
      "Precision: 0.627\n",
      "Recall: 0.593\n",
      "F1-score: 0.610\n",
      "Confusion Matrix:\n",
      " [[81 19]\n",
      " [22 32]]\n",
      "\n",
      "KNN with k=5, metric=manhattan\n",
      "Accuracy: 0.753\n",
      "Error Rate: 0.247\n",
      "Precision: 0.682\n",
      "Recall: 0.556\n",
      "F1-score: 0.612\n",
      "Confusion Matrix:\n",
      " [[86 14]\n",
      " [24 30]]\n",
      "\n",
      "KNN with k=7, metric=manhattan\n",
      "Accuracy: 0.721\n",
      "Error Rate: 0.279\n",
      "Precision: 0.628\n",
      "Recall: 0.500\n",
      "F1-score: 0.557\n",
      "Confusion Matrix:\n",
      " [[84 16]\n",
      " [27 27]]\n",
      "\n",
      "KNN with k=3, metric=minkowski\n",
      "Accuracy: 0.695\n",
      "Error Rate: 0.305\n",
      "Precision: 0.578\n",
      "Recall: 0.481\n",
      "F1-score: 0.525\n",
      "Confusion Matrix:\n",
      " [[81 19]\n",
      " [28 26]]\n",
      "\n",
      "KNN with k=5, metric=minkowski\n",
      "Accuracy: 0.721\n",
      "Error Rate: 0.279\n",
      "Precision: 0.608\n",
      "Recall: 0.574\n",
      "F1-score: 0.590\n",
      "Confusion Matrix:\n",
      " [[80 20]\n",
      " [23 31]]\n",
      "\n",
      "KNN with k=7, metric=minkowski\n",
      "Accuracy: 0.701\n",
      "Error Rate: 0.299\n",
      "Precision: 0.580\n",
      "Recall: 0.537\n",
      "F1-score: 0.558\n",
      "Confusion Matrix:\n",
      " [[79 21]\n",
      " [25 29]]\n",
      "\n",
      "KNN with k=3, metric=chebyshev\n",
      "Accuracy: 0.721\n",
      "Error Rate: 0.279\n",
      "Precision: 0.617\n",
      "Recall: 0.537\n",
      "F1-score: 0.574\n",
      "Confusion Matrix:\n",
      " [[82 18]\n",
      " [25 29]]\n",
      "\n",
      "KNN with k=5, metric=chebyshev\n",
      "Accuracy: 0.695\n",
      "Error Rate: 0.305\n",
      "Precision: 0.566\n",
      "Recall: 0.556\n",
      "F1-score: 0.561\n",
      "Confusion Matrix:\n",
      " [[77 23]\n",
      " [24 30]]\n",
      "\n",
      "KNN with k=7, metric=chebyshev\n",
      "Accuracy: 0.662\n",
      "Error Rate: 0.338\n",
      "Precision: 0.521\n",
      "Recall: 0.463\n",
      "F1-score: 0.490\n",
      "Confusion Matrix:\n",
      " [[77 23]\n",
      " [29 25]]\n"
     ]
    }
   ],
   "source": [
    "# Define parameters to experiment\n",
    "k_values = [3, 5, 7]\n",
    "distance_metrics = ['euclidean', 'manhattan', 'minkowski', 'chebyshev']\n",
    "minkowski_p = 3  # for Minkowski distance\n",
    "\n",
    "# Dictionary to store results\n",
    "knn_results = {}\n",
    "\n",
    "for metric in distance_metrics:\n",
    "    for k in k_values:\n",
    "        if metric == 'minkowski':\n",
    "            knn = KNeighborsClassifier(n_neighbors=k, metric=metric, p=minkowski_p)\n",
    "        else:\n",
    "            knn = KNeighborsClassifier(n_neighbors=k, metric=metric)\n",
    "        \n",
    "        knn.fit(X_train_scaled, y_train)\n",
    "        y_pred = knn.predict(X_test_scaled)\n",
    "        \n",
    "        # Store metrics\n",
    "        knn_results[(metric, k)] = {\n",
    "            \"accuracy\": accuracy_score(y_test, y_pred),\n",
    "            \"error_rate\": 1 - accuracy_score(y_test, y_pred),\n",
    "            \"precision\": precision_score(y_test, y_pred),\n",
    "            \"recall\": recall_score(y_test, y_pred),\n",
    "            \"f1_score\": f1_score(y_test, y_pred),\n",
    "            \"confusion_matrix\": confusion_matrix(y_test, y_pred)\n",
    "        }\n",
    "        \n",
    "        # Print metrics\n",
    "        print(f\"\\nKNN with k={k}, metric={metric}\")\n",
    "        print(f\"Accuracy: {knn_results[(metric, k)]['accuracy']:.3f}\")\n",
    "        print(f\"Error Rate: {knn_results[(metric, k)]['error_rate']:.3f}\")\n",
    "        print(f\"Precision: {knn_results[(metric, k)]['precision']:.3f}\")\n",
    "        print(f\"Recall: {knn_results[(metric, k)]['recall']:.3f}\")\n",
    "        print(f\"F1-score: {knn_results[(metric, k)]['f1_score']:.3f}\")\n",
    "        print(\"Confusion Matrix:\\n\", knn_results[(metric, k)]['confusion_matrix'])\n"
   ]
  },
  {
   "cell_type": "markdown",
   "id": "e6b3ec4c",
   "metadata": {},
   "source": [
    "### Step 4: Visualize Model Performance\n",
    "- Compare accuracy, precision, recall, and F1-score for all combinations of `k` and distance metrics.\n"
   ]
  },
  {
   "cell_type": "code",
   "execution_count": 15,
   "id": "3bca09b5",
   "metadata": {},
   "outputs": [
    {
     "data": {
      "image/png": "[encoded data removed]",
      "text/plain": [
       "<Figure size 1400x600 with 1 Axes>"
      ]
     },
     "metadata": {},
     "output_type": "display_data"
    }
   ],
   "source": [
    "# Convert results to DataFrame for plotting\n",
    "results_df = pd.DataFrame(knn_results).T  # transpose so (metric, k) is index\n",
    "results_df[['accuracy', 'precision', 'recall', 'f1_score']].plot(\n",
    "    kind='bar', figsize=(14,6)\n",
    ")\n",
    "plt.title(\"KNN Performance Metrics for Different k and Distance Metrics\")\n",
    "plt.xlabel(\"(Distance Metric, k)\")\n",
    "plt.ylabel(\"Score\")\n",
    "plt.ylim(0, 1)\n",
    "plt.legend(loc='lower right')\n",
    "plt.show()"
   ]
  },
  {
   "cell_type": "code",
   "execution_count": null,
   "id": "e8f2bfda",
   "metadata": {},
   "outputs": [],
   "source": []
  }
 ],
 "metadata": {
  "kernelspec": {
   "display_name": ".venv",
   "language": "python",
   "name": "python3"
  },
  "language_info": {
   "codemirror_mode": {
    "name": "ipython",
    "version": 3
   },
   "file_extension": ".py",
   "mimetype": "text/x-python",
   "name": "python",
   "nbconvert_exporter": "python",
   "pygments_lexer": "ipython3",
   "version": "3.12.2"
  }
 },
 "nbformat": 4,
 "nbformat_minor": 5
}
