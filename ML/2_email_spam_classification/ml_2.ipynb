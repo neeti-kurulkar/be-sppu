{
 "cells": [
  {
   "cell_type": "markdown",
   "id": "1a89627a",
   "metadata": {},
   "source": [
    "# Email Spam Classification\n",
    "\n",
    "### Objective:\n",
    "Classify emails as either **Not Spam** (Normal State) or **Spam** (Abnormal State) using machine learning models.\n",
    "\n",
    "### Tasks:\n",
    "1. Load and preprocess the dataset  \n",
    "2. Explore class distribution and visualize data  \n",
    "3. Train and evaluate **K-Nearest Neighbors (KNN)**  \n",
    "4. Train and evaluate **Support Vector Machine (SVM)**  \n",
    "5. Experiment with different hyperparameters to improve performance  \n",
    "6. Compare model metrics: Accuracy, Precision, Recall, Confusion Matrix\n"
   ]
  },
  {
   "cell_type": "code",
   "execution_count": 24,
   "id": "8ac9499d",
   "metadata": {},
   "outputs": [],
   "source": [
    "import pandas as pd\n",
    "import numpy as np\n",
    "import matplotlib.pyplot as plt\n",
    "import seaborn as sns\n",
    "\n",
    "from sklearn.model_selection import train_test_split, GridSearchCV\n",
    "from sklearn.preprocessing import StandardScaler\n",
    "from sklearn.neighbors import KNeighborsClassifier\n",
    "from sklearn.svm import SVC\n",
    "from sklearn.metrics import accuracy_score, confusion_matrix, classification_report, precision_score, recall_score, f1_score"
   ]
  },
  {
   "cell_type": "markdown",
   "id": "9a4e91ef",
   "metadata": {},
   "source": [
    "### Step 1: Load the Dataset"
   ]
  },
  {
   "cell_type": "code",
   "execution_count": 3,
   "id": "b27375bc",
   "metadata": {},
   "outputs": [
    {
     "data": {
      "text/html": [
       "<div>\n",
       "<style scoped>\n",
       "    .dataframe tbody tr th:only-of-type {\n",
       "        vertical-align: middle;\n",
       "    }\n",
       "\n",
       "    .dataframe tbody tr th {\n",
       "        vertical-align: top;\n",
       "    }\n",
       "\n",
       "    .dataframe thead th {\n",
       "        text-align: right;\n",
       "    }\n",
       "</style>\n",
       "<table border=\"1\" class=\"dataframe\">\n",
       "  <thead>\n",
       "    <tr style=\"text-align: right;\">\n",
       "      <th></th>\n",
       "      <th>Email No.</th>\n",
       "      <th>the</th>\n",
       "      <th>to</th>\n",
       "      <th>ect</th>\n",
       "      <th>and</th>\n",
       "      <th>for</th>\n",
       "      <th>of</th>\n",
       "      <th>a</th>\n",
       "      <th>you</th>\n",
       "      <th>hou</th>\n",
       "      <th>...</th>\n",
       "      <th>connevey</th>\n",
       "      <th>jay</th>\n",
       "      <th>valued</th>\n",
       "      <th>lay</th>\n",
       "      <th>infrastructure</th>\n",
       "      <th>military</th>\n",
       "      <th>allowing</th>\n",
       "      <th>ff</th>\n",
       "      <th>dry</th>\n",
       "      <th>Prediction</th>\n",
       "    </tr>\n",
       "  </thead>\n",
       "  <tbody>\n",
       "    <tr>\n",
       "      <th>0</th>\n",
       "      <td>Email 1</td>\n",
       "      <td>0</td>\n",
       "      <td>0</td>\n",
       "      <td>1</td>\n",
       "      <td>0</td>\n",
       "      <td>0</td>\n",
       "      <td>0</td>\n",
       "      <td>2</td>\n",
       "      <td>0</td>\n",
       "      <td>0</td>\n",
       "      <td>...</td>\n",
       "      <td>0</td>\n",
       "      <td>0</td>\n",
       "      <td>0</td>\n",
       "      <td>0</td>\n",
       "      <td>0</td>\n",
       "      <td>0</td>\n",
       "      <td>0</td>\n",
       "      <td>0</td>\n",
       "      <td>0</td>\n",
       "      <td>0</td>\n",
       "    </tr>\n",
       "    <tr>\n",
       "      <th>1</th>\n",
       "      <td>Email 2</td>\n",
       "      <td>8</td>\n",
       "      <td>13</td>\n",
       "      <td>24</td>\n",
       "      <td>6</td>\n",
       "      <td>6</td>\n",
       "      <td>2</td>\n",
       "      <td>102</td>\n",
       "      <td>1</td>\n",
       "      <td>27</td>\n",
       "      <td>...</td>\n",
       "      <td>0</td>\n",
       "      <td>0</td>\n",
       "      <td>0</td>\n",
       "      <td>0</td>\n",
       "      <td>0</td>\n",
       "      <td>0</td>\n",
       "      <td>0</td>\n",
       "      <td>1</td>\n",
       "      <td>0</td>\n",
       "      <td>0</td>\n",
       "    </tr>\n",
       "    <tr>\n",
       "      <th>2</th>\n",
       "      <td>Email 3</td>\n",
       "      <td>0</td>\n",
       "      <td>0</td>\n",
       "      <td>1</td>\n",
       "      <td>0</td>\n",
       "      <td>0</td>\n",
       "      <td>0</td>\n",
       "      <td>8</td>\n",
       "      <td>0</td>\n",
       "      <td>0</td>\n",
       "      <td>...</td>\n",
       "      <td>0</td>\n",
       "      <td>0</td>\n",
       "      <td>0</td>\n",
       "      <td>0</td>\n",
       "      <td>0</td>\n",
       "      <td>0</td>\n",
       "      <td>0</td>\n",
       "      <td>0</td>\n",
       "      <td>0</td>\n",
       "      <td>0</td>\n",
       "    </tr>\n",
       "    <tr>\n",
       "      <th>3</th>\n",
       "      <td>Email 4</td>\n",
       "      <td>0</td>\n",
       "      <td>5</td>\n",
       "      <td>22</td>\n",
       "      <td>0</td>\n",
       "      <td>5</td>\n",
       "      <td>1</td>\n",
       "      <td>51</td>\n",
       "      <td>2</td>\n",
       "      <td>10</td>\n",
       "      <td>...</td>\n",
       "      <td>0</td>\n",
       "      <td>0</td>\n",
       "      <td>0</td>\n",
       "      <td>0</td>\n",
       "      <td>0</td>\n",
       "      <td>0</td>\n",
       "      <td>0</td>\n",
       "      <td>0</td>\n",
       "      <td>0</td>\n",
       "      <td>0</td>\n",
       "    </tr>\n",
       "    <tr>\n",
       "      <th>4</th>\n",
       "      <td>Email 5</td>\n",
       "      <td>7</td>\n",
       "      <td>6</td>\n",
       "      <td>17</td>\n",
       "      <td>1</td>\n",
       "      <td>5</td>\n",
       "      <td>2</td>\n",
       "      <td>57</td>\n",
       "      <td>0</td>\n",
       "      <td>9</td>\n",
       "      <td>...</td>\n",
       "      <td>0</td>\n",
       "      <td>0</td>\n",
       "      <td>0</td>\n",
       "      <td>0</td>\n",
       "      <td>0</td>\n",
       "      <td>0</td>\n",
       "      <td>0</td>\n",
       "      <td>1</td>\n",
       "      <td>0</td>\n",
       "      <td>0</td>\n",
       "    </tr>\n",
       "  </tbody>\n",
       "</table>\n",
       "<p>5 rows × 3002 columns</p>\n",
       "</div>"
      ],
      "text/plain": [
       "  Email No.  the  to  ect  and  for  of    a  you  hou  ...  connevey  jay  \\\n",
       "0   Email 1    0   0    1    0    0   0    2    0    0  ...         0    0   \n",
       "1   Email 2    8  13   24    6    6   2  102    1   27  ...         0    0   \n",
       "2   Email 3    0   0    1    0    0   0    8    0    0  ...         0    0   \n",
       "3   Email 4    0   5   22    0    5   1   51    2   10  ...         0    0   \n",
       "4   Email 5    7   6   17    1    5   2   57    0    9  ...         0    0   \n",
       "\n",
       "   valued  lay  infrastructure  military  allowing  ff  dry  Prediction  \n",
       "0       0    0               0         0         0   0    0           0  \n",
       "1       0    0               0         0         0   1    0           0  \n",
       "2       0    0               0         0         0   0    0           0  \n",
       "3       0    0               0         0         0   0    0           0  \n",
       "4       0    0               0         0         0   1    0           0  \n",
       "\n",
       "[5 rows x 3002 columns]"
      ]
     },
     "execution_count": 3,
     "metadata": {},
     "output_type": "execute_result"
    }
   ],
   "source": [
    "df = pd.read_csv(\"emails.csv\")\n",
    "df.head()"
   ]
  },
  {
   "cell_type": "code",
   "execution_count": 12,
   "id": "f894884e",
   "metadata": {},
   "outputs": [
    {
     "name": "stdout",
     "output_type": "stream",
     "text": [
      "<class 'pandas.core.frame.DataFrame'>\n",
      "RangeIndex: 5172 entries, 0 to 5171\n",
      "Columns: 3002 entries, Email No. to Prediction\n",
      "dtypes: int64(3001), object(1)\n",
      "memory usage: 118.5+ MB\n"
     ]
    }
   ],
   "source": [
    "df.info()"
   ]
  },
  {
   "cell_type": "code",
   "execution_count": 5,
   "id": "886f2305",
   "metadata": {},
   "outputs": [
    {
     "name": "stdout",
     "output_type": "stream",
     "text": [
      "Initial shape: (5172, 3002)\n"
     ]
    }
   ],
   "source": [
    "print(\"Initial shape:\", df.shape)"
   ]
  },
  {
   "cell_type": "markdown",
   "id": "ef6ce2e3",
   "metadata": {},
   "source": [
    "### Step 2: Data Cleaning and Preprocessing\n",
    "- Drop rows with missing values\n",
    "- Separate features (`X`) and target (`y`)  \n",
    "- Standardize the features\n",
    "- Split data into training and test sets"
   ]
  },
  {
   "cell_type": "code",
   "execution_count": 9,
   "id": "57406356",
   "metadata": {},
   "outputs": [
    {
     "name": "stdout",
     "output_type": "stream",
     "text": [
      "After dropping missing values: (5172, 3002)\n"
     ]
    }
   ],
   "source": [
    "# Drop rows with missing values\n",
    "df.dropna(inplace=True)\n",
    "print(\"After dropping missing values:\", df.shape)"
   ]
  },
  {
   "cell_type": "code",
   "execution_count": 13,
   "id": "144f445e",
   "metadata": {},
   "outputs": [],
   "source": [
    "X = df.iloc[:, 1:-1]  # word count features\n",
    "y = df.iloc[:, -1]    # labels: 'spam' or 'not spam'"
   ]
  },
  {
   "cell_type": "code",
   "execution_count": 14,
   "id": "e5d3f837",
   "metadata": {},
   "outputs": [
    {
     "data": {
      "image/png": "[encoded data removed]",
      "text/plain": [
       "<Figure size 640x480 with 1 Axes>"
      ]
     },
     "metadata": {},
     "output_type": "display_data"
    }
   ],
   "source": [
    "# Check class distribution\n",
    "sns.countplot(x=y)\n",
    "plt.title(\"Class Distribution: Not Spam vs Spam\")\n",
    "plt.show()"
   ]
  },
  {
   "cell_type": "code",
   "execution_count": 15,
   "id": "5e1d1746",
   "metadata": {},
   "outputs": [],
   "source": [
    "# Split data (stratify to preserve class ratio)\n",
    "X_train, X_test, y_train, y_test = train_test_split(\n",
    "    X, y, test_size=0.2, random_state=42, stratify=y\n",
    ")"
   ]
  },
  {
   "cell_type": "code",
   "execution_count": 18,
   "id": "30d494cd",
   "metadata": {},
   "outputs": [],
   "source": [
    "# Standardize features\n",
    "scaler = StandardScaler()\n",
    "X_train_scaled = scaler.fit_transform(X_train)\n",
    "X_test_scaled = scaler.transform(X_test)"
   ]
  },
  {
   "cell_type": "markdown",
   "id": "c5a127c7",
   "metadata": {},
   "source": [
    "### Step 3: K-Nearest Neighbours\n",
    "Train KNN classifiers with different values of **k** and evaluate their performance."
   ]
  },
  {
   "cell_type": "code",
   "execution_count": 28,
   "id": "27b9f792",
   "metadata": {},
   "outputs": [
    {
     "name": "stdout",
     "output_type": "stream",
     "text": [
      "\n",
      "KNN with k=3\n",
      "Accuracy: 0.865\n",
      "Precision: 0.696\n",
      "Recall: 0.947\n",
      "F1-score: 0.802\n",
      "Confusion Matrix:\n",
      "[[611 124]\n",
      " [ 16 284]]\n",
      "\n",
      "KNN with k=5\n",
      "Accuracy: 0.834\n",
      "Precision: 0.643\n",
      "Recall: 0.957\n",
      "F1-score: 0.769\n",
      "Confusion Matrix:\n",
      "[[576 159]\n",
      " [ 13 287]]\n",
      "\n",
      "KNN with k=7\n",
      "Accuracy: 0.801\n",
      "Precision: 0.599\n",
      "Recall: 0.947\n",
      "F1-score: 0.734\n",
      "Confusion Matrix:\n",
      "[[545 190]\n",
      " [ 16 284]]\n"
     ]
    }
   ],
   "source": [
    "# KNN for multiple k values, store results\n",
    "k_values = [3, 5, 7]\n",
    "knn_results = {}  # store metrics for each k\n",
    "\n",
    "for k in k_values:\n",
    "    knn = KNeighborsClassifier(n_neighbors=k)\n",
    "    knn.fit(X_train_scaled, y_train)\n",
    "    y_pred_knn = knn.predict(X_test_scaled)\n",
    "    \n",
    "    # Store metrics\n",
    "    knn_results[k] = {\n",
    "        \"accuracy\": accuracy_score(y_test, y_pred_knn),\n",
    "        \"precision\": precision_score(y_test, y_pred_knn, pos_label=1),\n",
    "        \"recall\": recall_score(y_test, y_pred_knn, pos_label=1),\n",
    "        \"f1_score\": f1_score(y_test, y_pred_knn, pos_label=1),\n",
    "        \"confusion_matrix\": confusion_matrix(y_test, y_pred_knn)\n",
    "    }\n",
    "    \n",
    "    # Print metrics\n",
    "    print(f\"\\nKNN with k={k}\")\n",
    "    print(f\"Accuracy: {knn_results[k]['accuracy']:.3f}\")\n",
    "    print(f\"Precision: {knn_results[k]['precision']:.3f}\")\n",
    "    print(f\"Recall: {knn_results[k]['recall']:.3f}\")\n",
    "    print(f\"F1-score: {knn_results[k]['f1_score']:.3f}\")\n",
    "    print(f\"Confusion Matrix:\\n{knn_results[k]['confusion_matrix']}\")"
   ]
  },
  {
   "cell_type": "markdown",
   "id": "b27a1f51",
   "metadata": {},
   "source": [
    "### Step 4: Support Vector Machine\n",
    "Train SVM classifiers with different kernels and C values using GridSearchCV to find the best model.\n"
   ]
  },
  {
   "cell_type": "code",
   "execution_count": 29,
   "id": "d3f89018",
   "metadata": {},
   "outputs": [
    {
     "name": "stdout",
     "output_type": "stream",
     "text": [
      "\n",
      "SVM (Default Settings)\n",
      "Accuracy: 0.930\n",
      "Precision: 0.983\n",
      "Recall: 0.773\n",
      "F1-score: 0.866\n",
      "Confusion Matrix:\n",
      "[[731   4]\n",
      " [ 68 232]]\n"
     ]
    }
   ],
   "source": [
    "# Initialize SVM with default parameters\n",
    "svm_model = SVC()\n",
    "svm_model.fit(X_train_scaled, y_train)\n",
    "y_pred_svm = svm_model.predict(X_test_scaled)\n",
    "\n",
    "# Store metrics\n",
    "svm_metrics = {\n",
    "    \"accuracy\": accuracy_score(y_test, y_pred_svm),\n",
    "    \"precision\": precision_score(y_test, y_pred_svm, pos_label=1),\n",
    "    \"recall\": recall_score(y_test, y_pred_svm, pos_label=1),\n",
    "    \"f1_score\": f1_score(y_test, y_pred_svm, pos_label=1),\n",
    "    \"confusion_matrix\": confusion_matrix(y_test, y_pred_svm)\n",
    "}\n",
    "\n",
    "# Print metrics\n",
    "print(\"\\nSVM (Default Settings)\")\n",
    "print(f\"Accuracy: {svm_metrics['accuracy']:.3f}\")\n",
    "print(f\"Precision: {svm_metrics['precision']:.3f}\")\n",
    "print(f\"Recall: {svm_metrics['recall']:.3f}\")\n",
    "print(f\"F1-score: {svm_metrics['f1_score']:.3f}\")\n",
    "print(f\"Confusion Matrix:\\n{svm_metrics['confusion_matrix']}\")"
   ]
  },
  {
   "cell_type": "markdown",
   "id": "5058aa51",
   "metadata": {},
   "source": [
    "### Step 5: Compare Models\n",
    "Compare **KNN** and **SVM** based on accuracy, precision, recall, and F1-score.\n"
   ]
  },
  {
   "cell_type": "code",
   "execution_count": 31,
   "id": "39a524d2",
   "metadata": {},
   "outputs": [
    {
     "data": {
      "image/png": "[encoded data removed]",
      "text/plain": [
       "<Figure size 800x500 with 1 Axes>"
      ]
     },
     "metadata": {},
     "output_type": "display_data"
    }
   ],
   "source": [
    "# Compare metrics for KNN (k=3) and SVM\n",
    "best_k = 3\n",
    "metrics = [\"Accuracy\", \"Precision\", \"Recall\", \"F1-score\"]\n",
    "\n",
    "knn_scores = [\n",
    "    knn_results[best_k][\"accuracy\"],\n",
    "    knn_results[best_k][\"precision\"],\n",
    "    knn_results[best_k][\"recall\"],\n",
    "    knn_results[best_k][\"f1_score\"]\n",
    "]\n",
    "\n",
    "svm_scores = [\n",
    "    svm_metrics[\"accuracy\"],\n",
    "    svm_metrics[\"precision\"],\n",
    "    svm_metrics[\"recall\"],\n",
    "    svm_metrics[\"f1_score\"]\n",
    "]\n",
    "\n",
    "# Plot grouped bar chart\n",
    "x = np.arange(len(metrics))\n",
    "width = 0.35\n",
    "\n",
    "plt.figure(figsize=(8,5))\n",
    "plt.bar(x - width/2, knn_scores, width, label=f'KNN (k={best_k})', color='blue')\n",
    "plt.bar(x + width/2, svm_scores, width, label='SVM', color='green')\n",
    "\n",
    "plt.xticks(x, metrics)\n",
    "plt.ylim(0,1.05)\n",
    "plt.ylabel(\"Score\")\n",
    "plt.title(\"KNN vs SVM: Classification Metrics\")\n",
    "plt.legend()\n",
    "plt.show()"
   ]
  },
  {
   "cell_type": "code",
   "execution_count": null,
   "id": "43419e4a",
   "metadata": {},
   "outputs": [],
   "source": []
  }
 ],
 "metadata": {
  "kernelspec": {
   "display_name": ".venv",
   "language": "python",
   "name": "python3"
  },
  "language_info": {
   "codemirror_mode": {
    "name": "ipython",
    "version": 3
   },
   "file_extension": ".py",
   "mimetype": "text/x-python",
   "name": "python",
   "nbconvert_exporter": "python",
   "pygments_lexer": "ipython3",
   "version": "3.12.2"
  }
 },
 "nbformat": 4,
 "nbformat_minor": 5
}
