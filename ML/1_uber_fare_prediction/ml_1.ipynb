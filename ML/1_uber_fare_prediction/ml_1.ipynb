{
 "cells": [
  {
   "cell_type": "markdown",
   "id": "f64e6376",
   "metadata": {},
   "source": [
    "# Uber Fare Prediction\n",
    "\n",
    "### Objective:\n",
    "Predict the price of an Uber ride given pickup and drop-off coordinates.\n",
    "\n",
    "### Tasks:\n",
    "1. Preprocess the dataset  \n",
    "2. Identify and remove outliers  \n",
    "3. Check correlations among features  \n",
    "4. Implement **Linear Regression** and **Random Forest Regression** models  \n",
    "5. Evaluate and compare both models using RMSE and R² metrics"
   ]
  },
  {
   "cell_type": "code",
   "execution_count": 1,
   "id": "7daa30a6",
   "metadata": {},
   "outputs": [],
   "source": [
    "import pandas as pd\n",
    "import numpy as np\n",
    "import matplotlib.pyplot as plt\n",
    "import seaborn as sns\n",
    "\n",
    "from sklearn.model_selection import train_test_split\n",
    "from sklearn.linear_model import LinearRegression\n",
    "from sklearn.ensemble import RandomForestRegressor\n",
    "from sklearn.metrics import mean_squared_error, r2_score"
   ]
  },
  {
   "cell_type": "markdown",
   "id": "399f2b9f",
   "metadata": {},
   "source": [
    "### Step 1: Load the Dataset\n"
   ]
  },
  {
   "cell_type": "code",
   "execution_count": 3,
   "id": "51b70798",
   "metadata": {},
   "outputs": [
    {
     "name": "stdout",
     "output_type": "stream",
     "text": [
      "   Unnamed: 0                            key  fare_amount  \\\n",
      "0    24238194    2015-05-07 19:52:06.0000003          7.5   \n",
      "1    27835199    2009-07-17 20:04:56.0000002          7.7   \n",
      "2    44984355   2009-08-24 21:45:00.00000061         12.9   \n",
      "3    25894730    2009-06-26 08:22:21.0000001          5.3   \n",
      "4    17610152  2014-08-28 17:47:00.000000188         16.0   \n",
      "\n",
      "           pickup_datetime  pickup_longitude  pickup_latitude  \\\n",
      "0  2015-05-07 19:52:06 UTC        -73.999817        40.738354   \n",
      "1  2009-07-17 20:04:56 UTC        -73.994355        40.728225   \n",
      "2  2009-08-24 21:45:00 UTC        -74.005043        40.740770   \n",
      "3  2009-06-26 08:22:21 UTC        -73.976124        40.790844   \n",
      "4  2014-08-28 17:47:00 UTC        -73.925023        40.744085   \n",
      "\n",
      "   dropoff_longitude  dropoff_latitude  passenger_count  \n",
      "0         -73.999512         40.723217                1  \n",
      "1         -73.994710         40.750325                1  \n",
      "2         -73.962565         40.772647                1  \n",
      "3         -73.965316         40.803349                3  \n",
      "4         -73.973082         40.761247                5  \n"
     ]
    }
   ],
   "source": [
    "df = pd.read_csv(\"uber.csv\")\n",
    "print(df.head())"
   ]
  },
  {
   "cell_type": "code",
   "execution_count": 4,
   "id": "9816cfce",
   "metadata": {},
   "outputs": [
    {
     "name": "stdout",
     "output_type": "stream",
     "text": [
      "<class 'pandas.core.frame.DataFrame'>\n",
      "RangeIndex: 200000 entries, 0 to 199999\n",
      "Data columns (total 9 columns):\n",
      " #   Column             Non-Null Count   Dtype  \n",
      "---  ------             --------------   -----  \n",
      " 0   Unnamed: 0         200000 non-null  int64  \n",
      " 1   key                200000 non-null  object \n",
      " 2   fare_amount        200000 non-null  float64\n",
      " 3   pickup_datetime    200000 non-null  object \n",
      " 4   pickup_longitude   200000 non-null  float64\n",
      " 5   pickup_latitude    200000 non-null  float64\n",
      " 6   dropoff_longitude  199999 non-null  float64\n",
      " 7   dropoff_latitude   199999 non-null  float64\n",
      " 8   passenger_count    200000 non-null  int64  \n",
      "dtypes: float64(5), int64(2), object(2)\n",
      "memory usage: 13.7+ MB\n"
     ]
    }
   ],
   "source": [
    "df.info()"
   ]
  },
  {
   "cell_type": "markdown",
   "id": "6f3647d8",
   "metadata": {},
   "source": [
    "### Step 2: Data Cleaning and Preprocessing\n",
    "Remove missing values, invalid fare amounts, and unrealistic passenger counts."
   ]
  },
  {
   "cell_type": "code",
   "execution_count": null,
   "id": "c10f4c62",
   "metadata": {},
   "outputs": [
    {
     "data": {
      "text/plain": [
       "Unnamed: 0           0\n",
       "key                  0\n",
       "fare_amount          0\n",
       "pickup_datetime      0\n",
       "pickup_longitude     0\n",
       "pickup_latitude      0\n",
       "dropoff_longitude    0\n",
       "dropoff_latitude     0\n",
       "passenger_count      0\n",
       "dtype: int64"
      ]
     },
     "execution_count": 8,
     "metadata": {},
     "output_type": "execute_result"
    }
   ],
   "source": [
    "# Check for missing values\n",
    "df.isna().sum()\n"
   ]
  },
  {
   "cell_type": "code",
   "execution_count": 9,
   "id": "7672d9ba",
   "metadata": {},
   "outputs": [
    {
     "name": "stdout",
     "output_type": "stream",
     "text": [
      "After dropping NaNs: (199999, 9)\n"
     ]
    }
   ],
   "source": [
    "# Drop rows with missing values\n",
    "df.dropna(inplace=True)\n",
    "print(\"After dropping NaNs:\", df.shape)"
   ]
  },
  {
   "cell_type": "code",
   "execution_count": 26,
   "id": "e3be7440",
   "metadata": {},
   "outputs": [],
   "source": [
    "# Remove invalid fare amounts (negative or zero)\n",
    "df = df[df[\"fare_amount\"] > 0]"
   ]
  },
  {
   "cell_type": "code",
   "execution_count": 27,
   "id": "cc531579",
   "metadata": {},
   "outputs": [],
   "source": [
    "# Remove invalid passenger counts\n",
    "df = df[(df[\"passenger_count\"] > 0) & (df[\"passenger_count\"] <= 6)]"
   ]
  },
  {
   "cell_type": "markdown",
   "id": "2d31ef92",
   "metadata": {},
   "source": [
    "### Step 3: Outlier Detection & Removal\n",
    "Visualize outliers in the `fare_amount` column using a boxplot, then remove them using the IQR (Interquartile Range)"
   ]
  },
  {
   "cell_type": "code",
   "execution_count": 11,
   "id": "b10d3e35",
   "metadata": {},
   "outputs": [
    {
     "data": {
      "image/png": "[encoded data removed]",
      "text/plain": [
       "<Figure size 600x300 with 1 Axes>"
      ]
     },
     "metadata": {},
     "output_type": "display_data"
    }
   ],
   "source": [
    "# Boxplot before removing outliers\n",
    "plt.figure(figsize=(6, 3))\n",
    "sns.boxplot(x=df[\"fare_amount\"], color=\"lightcoral\")\n",
    "plt.title(\"Fare Amount Distribution (Before Outlier Removal)\")\n",
    "plt.show()"
   ]
  },
  {
   "cell_type": "code",
   "execution_count": 12,
   "id": "30c3b6d3",
   "metadata": {},
   "outputs": [],
   "source": [
    "# --- Identify and remove outliers using IQR ---\n",
    "Q1 = df[\"fare_amount\"].quantile(0.25)\n",
    "Q3 = df[\"fare_amount\"].quantile(0.75)\n",
    "IQR = Q3 - Q1\n",
    "\n",
    "# Keep only data within 1.5 * IQR\n",
    "df = df[\n",
    "    (df[\"fare_amount\"] >= Q1 - 1.5 * IQR)\n",
    "    & (df[\"fare_amount\"] <= Q3 + 1.5 * IQR)\n",
    "]"
   ]
  },
  {
   "cell_type": "code",
   "execution_count": 13,
   "id": "ad44a306",
   "metadata": {},
   "outputs": [
    {
     "data": {
      "image/png": "[encoded data removed]",
      "text/plain": [
       "<Figure size 600x300 with 1 Axes>"
      ]
     },
     "metadata": {},
     "output_type": "display_data"
    }
   ],
   "source": [
    "# Boxplot after removing outliers\n",
    "plt.figure(figsize=(6, 3))\n",
    "sns.boxplot(x=df[\"fare_amount\"], color=\"skyblue\")\n",
    "plt.title(\"Fare Amount Distribution (After Outlier Removal)\")\n",
    "plt.show()"
   ]
  },
  {
   "cell_type": "markdown",
   "id": "88dd6659",
   "metadata": {},
   "source": [
    "### Step 4: Feature Engineering\n",
    "Compute the **distance between pickup and dropoff points** using the Haversine formula and create a new feature `distance_km`."
   ]
  },
  {
   "cell_type": "code",
   "execution_count": 14,
   "id": "becc8153",
   "metadata": {},
   "outputs": [],
   "source": [
    "def haversine(lon1, lat1, lon2, lat2):\n",
    "    \"\"\"Calculate great-circle distance (km) between two points.\"\"\"\n",
    "    R = 6371  # Earth radius (km)\n",
    "    lon1, lon2, lat1, lat2 = map(np.radians, [lon1, lon2, lat1, lat2])\n",
    "    dlon, dlat = lon2 - lon1, lat2 - lat1\n",
    "    a = np.sin(dlat / 2) ** 2 + np.cos(lat1) * np.cos(lat2) * np.sin(dlon / 2) ** 2\n",
    "    c = 2 * np.arctan2(np.sqrt(a), np.sqrt(1 - a))\n",
    "    return R * c\n",
    "\n",
    "# Compute distance and add as new column\n",
    "df[\"distance_km\"] = haversine(\n",
    "    df[\"pickup_longitude\"],\n",
    "    df[\"pickup_latitude\"],\n",
    "    df[\"dropoff_longitude\"],\n",
    "    df[\"dropoff_latitude\"],\n",
    ")\n",
    "\n",
    "# Remove entries with zero or very small distance\n",
    "df = df[df[\"distance_km\"] > 0.1]"
   ]
  },
  {
   "cell_type": "code",
   "execution_count": 15,
   "id": "73849236",
   "metadata": {},
   "outputs": [
    {
     "data": {
      "text/html": [
       "<div>\n",
       "<style scoped>\n",
       "    .dataframe tbody tr th:only-of-type {\n",
       "        vertical-align: middle;\n",
       "    }\n",
       "\n",
       "    .dataframe tbody tr th {\n",
       "        vertical-align: top;\n",
       "    }\n",
       "\n",
       "    .dataframe thead th {\n",
       "        text-align: right;\n",
       "    }\n",
       "</style>\n",
       "<table border=\"1\" class=\"dataframe\">\n",
       "  <thead>\n",
       "    <tr style=\"text-align: right;\">\n",
       "      <th></th>\n",
       "      <th>Unnamed: 0</th>\n",
       "      <th>key</th>\n",
       "      <th>fare_amount</th>\n",
       "      <th>pickup_datetime</th>\n",
       "      <th>pickup_longitude</th>\n",
       "      <th>pickup_latitude</th>\n",
       "      <th>dropoff_longitude</th>\n",
       "      <th>dropoff_latitude</th>\n",
       "      <th>passenger_count</th>\n",
       "      <th>distance_km</th>\n",
       "    </tr>\n",
       "  </thead>\n",
       "  <tbody>\n",
       "    <tr>\n",
       "      <th>0</th>\n",
       "      <td>24238194</td>\n",
       "      <td>2015-05-07 19:52:06.0000003</td>\n",
       "      <td>7.5</td>\n",
       "      <td>2015-05-07 19:52:06 UTC</td>\n",
       "      <td>-73.999817</td>\n",
       "      <td>40.738354</td>\n",
       "      <td>-73.999512</td>\n",
       "      <td>40.723217</td>\n",
       "      <td>1</td>\n",
       "      <td>1.683323</td>\n",
       "    </tr>\n",
       "    <tr>\n",
       "      <th>1</th>\n",
       "      <td>27835199</td>\n",
       "      <td>2009-07-17 20:04:56.0000002</td>\n",
       "      <td>7.7</td>\n",
       "      <td>2009-07-17 20:04:56 UTC</td>\n",
       "      <td>-73.994355</td>\n",
       "      <td>40.728225</td>\n",
       "      <td>-73.994710</td>\n",
       "      <td>40.750325</td>\n",
       "      <td>1</td>\n",
       "      <td>2.457590</td>\n",
       "    </tr>\n",
       "    <tr>\n",
       "      <th>2</th>\n",
       "      <td>44984355</td>\n",
       "      <td>2009-08-24 21:45:00.00000061</td>\n",
       "      <td>12.9</td>\n",
       "      <td>2009-08-24 21:45:00 UTC</td>\n",
       "      <td>-74.005043</td>\n",
       "      <td>40.740770</td>\n",
       "      <td>-73.962565</td>\n",
       "      <td>40.772647</td>\n",
       "      <td>1</td>\n",
       "      <td>5.036377</td>\n",
       "    </tr>\n",
       "    <tr>\n",
       "      <th>3</th>\n",
       "      <td>25894730</td>\n",
       "      <td>2009-06-26 08:22:21.0000001</td>\n",
       "      <td>5.3</td>\n",
       "      <td>2009-06-26 08:22:21 UTC</td>\n",
       "      <td>-73.976124</td>\n",
       "      <td>40.790844</td>\n",
       "      <td>-73.965316</td>\n",
       "      <td>40.803349</td>\n",
       "      <td>3</td>\n",
       "      <td>1.661683</td>\n",
       "    </tr>\n",
       "    <tr>\n",
       "      <th>4</th>\n",
       "      <td>17610152</td>\n",
       "      <td>2014-08-28 17:47:00.000000188</td>\n",
       "      <td>16.0</td>\n",
       "      <td>2014-08-28 17:47:00 UTC</td>\n",
       "      <td>-73.925023</td>\n",
       "      <td>40.744085</td>\n",
       "      <td>-73.973082</td>\n",
       "      <td>40.761247</td>\n",
       "      <td>5</td>\n",
       "      <td>4.475450</td>\n",
       "    </tr>\n",
       "  </tbody>\n",
       "</table>\n",
       "</div>"
      ],
      "text/plain": [
       "   Unnamed: 0                            key  fare_amount  \\\n",
       "0    24238194    2015-05-07 19:52:06.0000003          7.5   \n",
       "1    27835199    2009-07-17 20:04:56.0000002          7.7   \n",
       "2    44984355   2009-08-24 21:45:00.00000061         12.9   \n",
       "3    25894730    2009-06-26 08:22:21.0000001          5.3   \n",
       "4    17610152  2014-08-28 17:47:00.000000188         16.0   \n",
       "\n",
       "           pickup_datetime  pickup_longitude  pickup_latitude  \\\n",
       "0  2015-05-07 19:52:06 UTC        -73.999817        40.738354   \n",
       "1  2009-07-17 20:04:56 UTC        -73.994355        40.728225   \n",
       "2  2009-08-24 21:45:00 UTC        -74.005043        40.740770   \n",
       "3  2009-06-26 08:22:21 UTC        -73.976124        40.790844   \n",
       "4  2014-08-28 17:47:00 UTC        -73.925023        40.744085   \n",
       "\n",
       "   dropoff_longitude  dropoff_latitude  passenger_count  distance_km  \n",
       "0         -73.999512         40.723217                1     1.683323  \n",
       "1         -73.994710         40.750325                1     2.457590  \n",
       "2         -73.962565         40.772647                1     5.036377  \n",
       "3         -73.965316         40.803349                3     1.661683  \n",
       "4         -73.973082         40.761247                5     4.475450  "
      ]
     },
     "execution_count": 15,
     "metadata": {},
     "output_type": "execute_result"
    }
   ],
   "source": [
    "df.head()"
   ]
  },
  {
   "cell_type": "markdown",
   "id": "f0c94aef",
   "metadata": {},
   "source": [
    "### Step 5: Correlation Analysis\n",
    "Check the correlation between `fare_amount`, `distance_km`, and `passenger_count` to understand which features influence the target variable."
   ]
  },
  {
   "cell_type": "code",
   "execution_count": 16,
   "id": "f54dbc89",
   "metadata": {},
   "outputs": [
    {
     "data": {
      "image/png": "[encoded data removed]",
      "text/plain": [
       "<Figure size 500x400 with 2 Axes>"
      ]
     },
     "metadata": {},
     "output_type": "display_data"
    }
   ],
   "source": [
    "corr_matrix = df[[\"fare_amount\", \"distance_km\", \"passenger_count\"]].corr()\n",
    "\n",
    "plt.figure(figsize=(5, 4))\n",
    "sns.heatmap(corr_matrix, annot=True, cmap=\"coolwarm\", fmt=\".2f\")\n",
    "plt.title(\"Correlation Heatmap\")\n",
    "plt.show()"
   ]
  },
  {
   "cell_type": "markdown",
   "id": "583d8591",
   "metadata": {},
   "source": [
    "### Step 6: Train Regression Models\n",
    "Train two regression models:\n",
    "- **Linear Regression**\n",
    "- **Random Forest Regressor**\n",
    "\n",
    "Then compare their performance.\n"
   ]
  },
  {
   "cell_type": "code",
   "execution_count": 17,
   "id": "622395aa",
   "metadata": {},
   "outputs": [],
   "source": [
    "# Features and target\n",
    "X = df[[\"distance_km\", \"passenger_count\"]]\n",
    "y = df[\"fare_amount\"]\n",
    "\n",
    "# Split data\n",
    "X_train, X_test, y_train, y_test = train_test_split(\n",
    "    X, y, test_size=0.2, random_state=42\n",
    ")\n"
   ]
  },
  {
   "cell_type": "code",
   "execution_count": 18,
   "id": "6f71c977",
   "metadata": {},
   "outputs": [],
   "source": [
    "# ---- Linear Regression ----\n",
    "lr = LinearRegression()\n",
    "lr.fit(X_train, y_train)\n",
    "y_pred_lr = lr.predict(X_test)"
   ]
  },
  {
   "cell_type": "code",
   "execution_count": 19,
   "id": "aff2e7f8",
   "metadata": {},
   "outputs": [],
   "source": [
    "# ---- Random Forest Regression ----\n",
    "rf = RandomForestRegressor(n_estimators=100, random_state=42)\n",
    "rf.fit(X_train, y_train)\n",
    "y_pred_rf = rf.predict(X_test)"
   ]
  },
  {
   "cell_type": "markdown",
   "id": "44c0f514",
   "metadata": {},
   "source": [
    "### Step 7: Model Evaluation\n",
    "Evaluate both models using **RMSE (Root Mean Squared Error)** and **R² (Coefficient of Determination)**.\n"
   ]
  },
  {
   "cell_type": "code",
   "execution_count": 24,
   "id": "2206a32e",
   "metadata": {},
   "outputs": [],
   "source": [
    "def evaluate_model(y_true, y_pred, model_name):\n",
    "    rmse = np.sqrt(mean_squared_error(y_true, y_pred))\n",
    "    r2 = r2_score(y_true, y_pred)\n",
    "    return rmse, r2\n",
    "\n",
    "rmse_lr, r2_lr = evaluate_model(y_test, y_pred_lr, \"Linear Regression\")\n",
    "rmse_rf, r2_rf = evaluate_model(y_test, y_pred_rf, \"Random Forest\")"
   ]
  },
  {
   "cell_type": "code",
   "execution_count": 25,
   "id": "99adbf28",
   "metadata": {},
   "outputs": [
    {
     "name": "stdout",
     "output_type": "stream",
     "text": [
      "\n",
      "Model Comparison:\n",
      "               Model      RMSE  R² Score\n",
      "0  Linear Regression  4.119054   0.00008\n",
      "1      Random Forest  2.665043   0.58142\n"
     ]
    }
   ],
   "source": [
    "comparison = pd.DataFrame(\n",
    "    {\n",
    "        \"Model\": [\"Linear Regression\", \"Random Forest\"],\n",
    "        \"RMSE\": [rmse_lr, rmse_rf],\n",
    "        \"R² Score\": [r2_lr, r2_rf],\n",
    "    }\n",
    ")\n",
    "print(\"\\nModel Comparison:\")\n",
    "print(comparison)"
   ]
  },
  {
   "cell_type": "code",
   "execution_count": null,
   "id": "4363ca97",
   "metadata": {},
   "outputs": [],
   "source": []
  }
 ],
 "metadata": {
  "kernelspec": {
   "display_name": ".venv",
   "language": "python",
   "name": "python3"
  },
  "language_info": {
   "codemirror_mode": {
    "name": "ipython",
    "version": 3
   },
   "file_extension": ".py",
   "mimetype": "text/x-python",
   "name": "python",
   "nbconvert_exporter": "python",
   "pygments_lexer": "ipython3",
   "version": "3.12.2"
  }
 },
 "nbformat": 4,
 "nbformat_minor": 5
}
